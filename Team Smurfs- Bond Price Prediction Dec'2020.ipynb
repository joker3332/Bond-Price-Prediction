{
  "cells": [
    {
      "cell_type": "code",
      "source": [
        "import pickle\n",
        "import numpy as np\n",
        "import pandas as pd\n",
        "import os\n",
        "\n",
        "import seaborn as sns #visualisation\n",
        "import matplotlib.pyplot as plt #visualisation\n",
        "%matplotlib inline \n",
        "sns.set(color_codes=True)\n",
        "\n",
        "from datetime import datetime\n",
        "from dateutil.relativedelta import relativedelta"
      ],
      "outputs": [],
      "execution_count": 88,
      "metadata": {},
      "id": "9717966e"
    },
    {
      "cell_type": "code",
      "source": [
        "with open(\"BondPrice_Prediction_Model.pkl\", 'rb') as file:  \n",
        "    model = pickle.load(file)"
      ],
      "outputs": [],
      "execution_count": 89,
      "metadata": {},
      "id": "2bb6d977"
    },
    {
      "cell_type": "code",
      "source": [
        "merp_df = pd.read_csv ('C:\\\\Users\\\\richi\\\\OneDrive\\\\Desktop\\\\Finance\\\\BPAMERP20201130-TEST.csv')\n",
        "print (merp_df)\n",
        "\n",
        "mers_df = pd.read_csv ('C:\\\\Users\\\\richi\\\\OneDrive\\\\Desktop\\\\Finance\\\\BPAMERS20201130-TEST.csv')\n",
        "print (mers_df)"
      ],
      "outputs": [
        {
          "output_type": "stream",
          "name": "stdout",
          "text": "  STOCK CODE     ISIN CODE                                         STOCK NAME  \\\n0   VN140167  MYBVN1401675                     TELEKOM IMTN 4.738% 27.06.2024   \n1   VO180016  MYBVO1800163  EDRA ENERGY IMTN 6.030% 05.01.2029 - Tranche N...   \n2   PU110040  MYBPU1100407                          BESRAYA 5.360% 28.07.2028   \n3   VS180380  MYBVS1803804              DHSB IMTN Series 10 6.650% 21.06.2033   \n4   VZ170398  MYBVZ1703983                  MAYBANKISLM IMTN 4.950% PERPETUAL   \n5   VN190102  MYBVN1901021         PASB IMTN 4.150% 04.06.2029 - Issue No. 15   \n6   UI180018  MYBUI1800183             TOYOTA CAP MTN 1826D 24.1.2023 - MTN 2   \n7   UN170079  MYBUN1700797  CIMBBANK MTN 3652D 18.5.2027 - SERIES 1 TRANCHE 3   \n8   VT080773  MYBVT0807739                             JEV IMTN 0% 10.11.2023   \n9   VI170138  MYBVI1701389  ALDZAHAB ABS-IMTN 29.03.2022(CLASS A TRANCHE 3...   \n\n  VALUE DATE  EVAL UPPER THRESHOLD YIELD  EVAL MID YIELD  \\\n0   1-Dec-20                       2.443           2.408   \n1   1-Dec-20                       3.708           3.644   \n2   1-Dec-20                       3.542           3.473   \n3   1-Dec-20                       5.481           5.417   \n4   1-Dec-20                       3.357           3.283   \n5   1-Dec-20                       3.144           3.114   \n6   1-Dec-20                       2.792           2.752   \n7   1-Dec-20                       3.001           2.961   \n8   1-Dec-20                       3.047           2.978   \n9   1-Dec-20                       2.642           2.612   \n\n   EVAL LOWER THRESHOLD YIELD  EVAL LOWER THRESHOLD PRICE  EVAL MID PRICE  \\\n0                       2.373                     107.799         107.923   \n1                       3.580                     116.101         116.587   \n2                       3.404                     112.095         112.588   \n3                       5.353                     110.506         111.121   \n4                       3.209                     103.106         103.253   \n5                       3.084                     107.458         107.690   \n6                       2.712                     103.837         103.922   \n7                       2.921                     109.915         110.162   \n8                       2.909                     118.722         118.937   \n9                       2.582                     102.923         102.962   \n\n   EVAL UPPER THRESHOLD PRICE  MODIFIED DURATION  CONVEXITY  \\\n0                     108.048              3.237     12.715   \n1                     117.076              6.403     50.300   \n2                     113.083              6.257     47.198   \n3                     111.742              8.463     94.400   \n4                     103.401              1.888      4.649   \n5                     107.923              7.062     59.341   \n6                     104.007              2.008      5.170   \n7                     110.410              5.604     36.774   \n8                     119.152              2.607      8.526   \n9                     103.002              1.276      2.285   \n\n   EVAL UPPER THRESHOLD YIELD CHANGE  EVAL MID YIELD CHANGE  \\\n0                             -0.056                 -0.055   \n1                              0.009                  0.009   \n2                              0.009                  0.009   \n3                              0.023                  0.023   \n4                              0.020                  0.020   \n5                              0.013                  0.014   \n6                             -0.008                 -0.007   \n7                              0.006                  0.007   \n8                              0.019                  0.019   \n9                             -0.006                 -0.005   \n\n   EVAL LOWER THRESHOLD YIELD CHANGE  EVAL LOWER THRESHOLD PRICE CHANGE  \\\n0                             -0.054                              0.194   \n1                              0.009                             -0.072   \n2                              0.009                             -0.068   \n3                              0.023                             -0.222   \n4                              0.020                             -0.044   \n5                              0.015                             -0.102   \n6                             -0.006                              0.012   \n7                              0.008                             -0.041   \n8                              0.019                             -0.076   \n9                             -0.004                              0.002   \n\n   EVAL MID PRICE CHANGE  EVAL UPPER THRESHOLD PRICE CHANGE  \\\n0                  0.190                              0.187   \n1                 -0.074                             -0.074   \n2                 -0.068                             -0.069   \n3                 -0.224                             -0.225   \n4                 -0.044                             -0.044   \n5                 -0.111                             -0.119   \n6                  0.010                              0.008   \n7                 -0.047                             -0.053   \n8                 -0.076                             -0.077   \n9                  0.000                             -0.001   \n\n   COMPOSITE LIQUIDITY SCORE (T-1)  \n0                              1.7  \n1                              2.3  \n2                              1.7  \n3                              2.7  \n4                              0.0  \n5                              2.0  \n6                              0.0  \n7                              0.0  \n8                              1.7  \n9                              2.0  \n   FACILITY CODE STOCK CODE     ISIN CODE  \\\n0      201300106   VN140167  MYBVN1401675   \n1      201800001   VO180016  MYBVO1800163   \n2      201100048   PU110040  MYBPU1100407   \n3      201800063   VS180380  MYBVS1803804   \n4      201700089   VZ170398  MYBVZ1703983   \n5      200900056   VN190102  MYBVN1901021   \n6      201700026   UI180018  MYBUI1800183   \n7      201700035   UN170079  MYBUN1700797   \n8      200500032   VT080773  MYBVT0807739   \n9      201700013   VI170138  MYBVI1701389   \n\n                                          STOCK NAME  \\\n0                     TELEKOM IMTN 4.738% 27.06.2024   \n1  EDRA ENERGY IMTN 6.030% 05.01.2029 - Tranche N...   \n2                          BESRAYA 5.360% 28.07.2028   \n3              DHSB IMTN Series 10 6.650% 21.06.2033   \n4                  MAYBANKISLM IMTN 4.950% PERPETUAL   \n5         PASB IMTN 4.150% 04.06.2029 - Issue No. 15   \n6             TOYOTA CAP MTN 1826D 24.1.2023 - MTN 2   \n7  CIMBBANK MTN 3652D 18.5.2027 - SERIES 1 TRANCHE 3   \n8                             JEV IMTN 0% 10.11.2023   \n9  ALDZAHAB ABS-IMTN 29.03.2022(CLASS A TRANCHE 3...   \n\n                          ISSUER NAME     PRINCIPLE  \\\n0             Telekom Malaysia Berhad       ISLAMIC   \n1              Edra Energy Sdn Berhad       ISLAMIC   \n2              Besraya (M) Sdn Berhad       ISLAMIC   \n3          Dynasty Harmony Sdn Berhad       ISLAMIC   \n4              Maybank Islamic Berhad       ISLAMIC   \n5           Pengurusan Air SPV Berhad       ISLAMIC   \n6  Toyota Capital Malaysia Sdn Berhad  CONVENTIONAL   \n7                    CIMB Bank Berhad  CONVENTIONAL   \n8    Jimah Energy Ventures Sdn Berhad       ISLAMIC   \n9             Al Dzahab Assets Berhad       ISLAMIC   \n\n                   BOND TYPE    BOND CLASS   RATING RATING AGENCY  ...  \\\n0            Fixed Rate Bond     Corporate      AAA           RAM  ...   \n1            Fixed Rate Bond     Corporate      AA3           RAM  ...   \n2            Fixed Rate Bond     Corporate      AA3           RAM  ...   \n3            Fixed Rate Bond     Corporate      AA3           RAM  ...   \n4     Floating Callable Bond     Financial      AA3           RAM  ...   \n5            Fixed Rate Bond     Corporate      AAA           RAM  ...   \n6            Fixed Rate Bond  Corporate(G)  AAA (S)           RAM  ...   \n7            Fixed Rate Bond     Financial      AAA           RAM  ...   \n8  Bond with Secondary Notes     Corporate      AA3           RAM  ...   \n9            Fixed Rate Bond           ABS      AAA           RAM  ...   \n\n  BOND CURRENT OUTSTANDING AMOUNT(MYR MIL) REMAINING TENURE  \\\n0                                      300               5Y   \n1                                      120              10Y   \n2                                       70              10Y   \n3                                       20              15Y   \n4                                     1000             25Y+   \n5                                      400              10Y   \n6                                      100               3Y   \n7                                      800               7Y   \n8                                       20               3Y   \n9                                       35               2Y   \n\n  ISSUER FACILITY LIMIT(MYR MIL) ISSUER OUTSTANDING AMOUNT(MYR MIL)  \\\n0                          13700                               5800   \n1                           5085                               5085   \n2                            980                                495   \n3                            300                                165   \n4                          31000                              13000   \n5                          60000                              18160   \n6                          14600                                700   \n7                          62167                              16550   \n8                           4847                                970   \n9                            903                                735   \n\n                       ISLAMIC CONCEPT                         SECTOR  \\\n0                              WAKALAH  INFRASTRUCTURES AND UTILITIES   \n1  BIL ISTITHMAR + MURABAHAH + WAKALAH  INFRASTRUCTURES AND UTILITIES   \n2                           MUDHARABAH  INFRASTRUCTURES AND UTILITIES   \n3  BIL ISTITHMAR + MURABAHAH + WAKALAH       PROPERTY AND REAL ESTATE   \n4  BIL ISTITHMAR + MURABAHAH + WAKALAH             FINANCIAL SERVICES   \n5                  IJARAH + MUSYARAKAH  INFRASTRUCTURES AND UTILITIES   \n6                                  NaN             FINANCIAL SERVICES   \n7                                  NaN             FINANCIAL SERVICES   \n8                              ISTISNA  INFRASTRUCTURES AND UTILITIES   \n9                            MURABAHAH             FINANCIAL SERVICES   \n\n  RATING EFFECTIVE DATE  CALLABLE/PUTTABLE CONVERTIBLE/EXCHANGABLE  \\\n0             27-Apr-20                  N                       N   \n1             26-Aug-20                  N                       N   \n2             10-Nov-20                  N                       N   \n3             17-Jan-20                  N                       N   \n4             23-Jan-20                  Y                       N   \n5             13-Jan-20                  N                       N   \n6             23-Nov-20                  N                       N   \n7             19-Aug-20                  N                       N   \n8             26-Nov-20                  N                       N   \n9              6-May-20                  N                       N   \n\n   RATING ACTION  \n0       Reaffirm  \n1       Reaffirm  \n2       Reaffirm  \n3       Reaffirm  \n4       Reaffirm  \n5       Reaffirm  \n6       Reaffirm  \n7       Reaffirm  \n8       Reaffirm  \n9       Reaffirm  \n\n[10 rows x 33 columns]\n"
        }
      ],
      "execution_count": 90,
      "metadata": {},
      "id": "b86ab402"
    },
    {
      "cell_type": "code",
      "source": [
        "merp_df.shape"
      ],
      "outputs": [
        {
          "output_type": "execute_result",
          "execution_count": 91,
          "data": {
            "text/plain": "(10, 19)"
          },
          "metadata": {}
        }
      ],
      "execution_count": 91,
      "metadata": {},
      "id": "ab365edb"
    },
    {
      "cell_type": "code",
      "source": [
        "mers_df.shape"
      ],
      "outputs": [
        {
          "output_type": "execute_result",
          "execution_count": 92,
          "data": {
            "text/plain": "(10, 33)"
          },
          "metadata": {}
        }
      ],
      "execution_count": 92,
      "metadata": {},
      "id": "dd7b11dc"
    },
    {
      "cell_type": "code",
      "source": [
        "df = merp_df.merge(mers_df,on=['STOCK CODE','ISIN CODE','STOCK NAME'],how='inner')\n",
        "print(df.shape)"
      ],
      "outputs": [
        {
          "output_type": "stream",
          "name": "stdout",
          "text": "(10, 49)\n"
        }
      ],
      "execution_count": 93,
      "metadata": {},
      "id": "520c7d82"
    },
    {
      "cell_type": "markdown",
      "source": [
        "### Data Preparation"
      ],
      "metadata": {},
      "id": "0c5826d7"
    },
    {
      "cell_type": "code",
      "source": [
        "for col in ['VALUE DATE','PREVIOUS PAYMENT DATE','ISSUE DATE','MATURITY DATE','NEXT PAYMENT DATE']:\n",
        "    df[col] = pd.to_datetime(df[col])"
      ],
      "outputs": [],
      "execution_count": 94,
      "metadata": {},
      "id": "2a770cc2"
    },
    {
      "cell_type": "code",
      "source": [
        "df['PREVIOUS PAYMENT DATE for calculation'] = df['PREVIOUS PAYMENT DATE'].copy()\n",
        "df.loc[df['PREVIOUS PAYMENT DATE for calculation'].isnull(),'PREVIOUS PAYMENT DATE for calculation']=df.loc[df['PREVIOUS PAYMENT DATE for calculation'].isnull()]['ISSUE DATE']"
      ],
      "outputs": [],
      "execution_count": 95,
      "metadata": {},
      "id": "6c544813"
    },
    {
      "cell_type": "code",
      "source": [
        "df[\"Value-Prev\"] = df['VALUE DATE'] - df['PREVIOUS PAYMENT DATE for calculation']\n",
        "df[\"Value-Prev\"] = df[\"Value-Prev\"].astype(str).str.replace(\" days\",\"\").astype(int)\n",
        "df[\"Payment Days diff\"] = df['NEXT PAYMENT DATE'] - df['PREVIOUS PAYMENT DATE']\n",
        "df[\"Payment Days diff\"] = df[\"Payment Days diff\"].astype(str).str.replace(\" days\",\"\").astype(int)"
      ],
      "outputs": [],
      "execution_count": 96,
      "metadata": {},
      "id": "3e0268ff"
    },
    {
      "cell_type": "code",
      "source": [
        "thisdict = {\n",
        "  \"ACTACT\": 1,\n",
        "  \"ACT365\": 2,\n",
        "}\n",
        "\n",
        "df['DAY COUNT BASIS (INT)']= df['DAY COUNT BASIS'].map(thisdict)"
      ],
      "outputs": [],
      "execution_count": 97,
      "metadata": {},
      "id": "eba1df9a"
    },
    {
      "cell_type": "code",
      "source": [
        "nominal = 5000000\n",
        "\n",
        "df[\"ACCRUED INTEREST 1\"] = nominal*(df['NEXT COUPON RATE']/100)*(df[\"Value-Prev\"]/df[\"Payment Days diff\"])\n",
        "df[\"ACCRUED INTEREST 2\"] = nominal*(df['NEXT COUPON RATE']/100)*(df[\"Value-Prev\"]/365)\n",
        "\n",
        "df['ACCRUED INTEREST'] = df[\"ACCRUED INTEREST 1\"].copy()\n",
        "df.loc[df['DAY COUNT BASIS (INT)']==2,'ACCRUED INTEREST'] = df.loc[df['DAY COUNT BASIS (INT)']==2][\"ACCRUED INTEREST 2\"]"
      ],
      "outputs": [],
      "execution_count": 98,
      "metadata": {},
      "id": "d7d5f288"
    },
    {
      "cell_type": "code",
      "source": [
        "df[\"TERM OF MATURITY\"]= (df['MATURITY DATE'] - df['VALUE DATE'])\n",
        "df[\"TERM OF MATURITY\"] = df[\"TERM OF MATURITY\"].astype(str).str.replace(\" days\",\"\").astype(int)\n",
        "df[\"TERM OF MATURITY\"] = df[\"TERM OF MATURITY\"]/365"
      ],
      "outputs": [],
      "execution_count": 99,
      "metadata": {},
      "id": "f27e43b8"
    },
    {
      "cell_type": "markdown",
      "source": [
        "### Bond Price Prediction in Dec'2020"
      ],
      "metadata": {},
      "id": "1456759f"
    },
    {
      "cell_type": "code",
      "source": [
        "X_col = ['EVAL MID YIELD','EVAL MID PRICE','ACCRUED INTEREST',\"TERM OF MATURITY\",'MODIFIED DURATION']\n",
        "df['PREDICTED DECEMBER BOND PRICE'] = model.predict(df[X_col])"
      ],
      "outputs": [],
      "execution_count": 100,
      "metadata": {},
      "id": "7aac0d92"
    },
    {
      "cell_type": "code",
      "source": [
        "df[['STOCK CODE','ISIN CODE','STOCK NAME','EVAL MID PRICE','PREDICTED DECEMBER BOND PRICE']]"
      ],
      "outputs": [
        {
          "output_type": "execute_result",
          "execution_count": 101,
          "data": {
            "text/html": "<div>\n<style scoped>\n    .dataframe tbody tr th:only-of-type {\n        vertical-align: middle;\n    }\n\n    .dataframe tbody tr th {\n        vertical-align: top;\n    }\n\n    .dataframe thead th {\n        text-align: right;\n    }\n</style>\n<table border=\"1\" class=\"dataframe\">\n  <thead>\n    <tr style=\"text-align: right;\">\n      <th></th>\n      <th>STOCK CODE</th>\n      <th>ISIN CODE</th>\n      <th>STOCK NAME</th>\n      <th>EVAL MID PRICE</th>\n      <th>PREDICTED DECEMBER BOND PRICE</th>\n    </tr>\n  </thead>\n  <tbody>\n    <tr>\n      <th>0</th>\n      <td>VN140167</td>\n      <td>MYBVN1401675</td>\n      <td>TELEKOM IMTN 4.738% 27.06.2024</td>\n      <td>107.923</td>\n      <td>107.457669</td>\n    </tr>\n    <tr>\n      <th>1</th>\n      <td>VO180016</td>\n      <td>MYBVO1800163</td>\n      <td>EDRA ENERGY IMTN 6.030% 05.01.2029 - Tranche N...</td>\n      <td>116.587</td>\n      <td>116.335189</td>\n    </tr>\n    <tr>\n      <th>2</th>\n      <td>PU110040</td>\n      <td>MYBPU1100407</td>\n      <td>BESRAYA 5.360% 28.07.2028</td>\n      <td>112.588</td>\n      <td>112.618872</td>\n    </tr>\n    <tr>\n      <th>3</th>\n      <td>VS180380</td>\n      <td>MYBVS1803804</td>\n      <td>DHSB IMTN Series 10 6.650% 21.06.2033</td>\n      <td>111.121</td>\n      <td>112.215004</td>\n    </tr>\n    <tr>\n      <th>4</th>\n      <td>VZ170398</td>\n      <td>MYBVZ1703983</td>\n      <td>MAYBANKISLM IMTN 4.950% PERPETUAL</td>\n      <td>103.253</td>\n      <td>103.299934</td>\n    </tr>\n    <tr>\n      <th>5</th>\n      <td>VN190102</td>\n      <td>MYBVN1901021</td>\n      <td>PASB IMTN 4.150% 04.06.2029 - Issue No. 15</td>\n      <td>107.690</td>\n      <td>107.985974</td>\n    </tr>\n    <tr>\n      <th>6</th>\n      <td>UI180018</td>\n      <td>MYBUI1800183</td>\n      <td>TOYOTA CAP MTN 1826D 24.1.2023 - MTN 2</td>\n      <td>103.922</td>\n      <td>103.711859</td>\n    </tr>\n    <tr>\n      <th>7</th>\n      <td>UN170079</td>\n      <td>MYBUN1700797</td>\n      <td>CIMBBANK MTN 3652D 18.5.2027 - SERIES 1 TRANCHE 3</td>\n      <td>110.162</td>\n      <td>109.936663</td>\n    </tr>\n    <tr>\n      <th>8</th>\n      <td>VT080773</td>\n      <td>MYBVT0807739</td>\n      <td>JEV IMTN 0% 10.11.2023</td>\n      <td>118.937</td>\n      <td>117.712659</td>\n    </tr>\n    <tr>\n      <th>9</th>\n      <td>VI170138</td>\n      <td>MYBVI1701389</td>\n      <td>ALDZAHAB ABS-IMTN 29.03.2022(CLASS A TRANCHE 3...</td>\n      <td>102.962</td>\n      <td>102.641150</td>\n    </tr>\n  </tbody>\n</table>\n</div>",
            "text/plain": "  STOCK CODE     ISIN CODE                                         STOCK NAME  \\\n0   VN140167  MYBVN1401675                     TELEKOM IMTN 4.738% 27.06.2024   \n1   VO180016  MYBVO1800163  EDRA ENERGY IMTN 6.030% 05.01.2029 - Tranche N...   \n2   PU110040  MYBPU1100407                          BESRAYA 5.360% 28.07.2028   \n3   VS180380  MYBVS1803804              DHSB IMTN Series 10 6.650% 21.06.2033   \n4   VZ170398  MYBVZ1703983                  MAYBANKISLM IMTN 4.950% PERPETUAL   \n5   VN190102  MYBVN1901021         PASB IMTN 4.150% 04.06.2029 - Issue No. 15   \n6   UI180018  MYBUI1800183             TOYOTA CAP MTN 1826D 24.1.2023 - MTN 2   \n7   UN170079  MYBUN1700797  CIMBBANK MTN 3652D 18.5.2027 - SERIES 1 TRANCHE 3   \n8   VT080773  MYBVT0807739                             JEV IMTN 0% 10.11.2023   \n9   VI170138  MYBVI1701389  ALDZAHAB ABS-IMTN 29.03.2022(CLASS A TRANCHE 3...   \n\n   EVAL MID PRICE  PREDICTED DECEMBER BOND PRICE  \n0         107.923                     107.457669  \n1         116.587                     116.335189  \n2         112.588                     112.618872  \n3         111.121                     112.215004  \n4         103.253                     103.299934  \n5         107.690                     107.985974  \n6         103.922                     103.711859  \n7         110.162                     109.936663  \n8         118.937                     117.712659  \n9         102.962                     102.641150  "
          },
          "metadata": {}
        }
      ],
      "execution_count": 101,
      "metadata": {},
      "id": "3b5a754d"
    },
    {
      "cell_type": "code",
      "source": [],
      "outputs": [],
      "execution_count": null,
      "metadata": {},
      "id": "5297e2fd"
    }
  ],
  "metadata": {
    "kernelspec": {
      "name": "python3",
      "language": "python",
      "display_name": "Python 3"
    },
    "language_info": {
      "name": "python",
      "version": "3.6.9",
      "mimetype": "text/x-python",
      "codemirror_mode": {
        "name": "ipython",
        "version": 3
      },
      "pygments_lexer": "ipython3",
      "nbconvert_exporter": "python",
      "file_extension": ".py"
    },
    "kernel_info": {
      "name": "python3"
    },
    "nteract": {
      "version": "nteract-front-end@1.0.0"
    }
  },
  "nbformat": 4,
  "nbformat_minor": 5
}